{
 "cells": [
  {
   "cell_type": "code",
   "id": "initial_id",
   "metadata": {
    "collapsed": true,
    "ExecuteTime": {
     "end_time": "2025-01-17T14:51:23.413974Z",
     "start_time": "2025-01-17T14:51:22.369821Z"
    }
   },
   "source": [
    "import IPython\n",
    "\n",
    "import torch\n",
    "import torchaudio\n",
    "\n",
    "print(torch.__version__)\n",
    "print(torchaudio.__version__)"
   ],
   "outputs": [
    {
     "name": "stdout",
     "output_type": "stream",
     "text": [
      "2.5.1+cu124\n",
      "2.5.1+cu124\n"
     ]
    }
   ],
   "execution_count": 1
  },
  {
   "metadata": {
    "ExecuteTime": {
     "end_time": "2025-01-19T15:58:06.839808Z",
     "start_time": "2025-01-19T15:58:05.451540Z"
    }
   },
   "cell_type": "code",
   "source": [
    "from config.config import Config\n",
    "from data.datasets import load_librispeech\n",
    "\n",
    "cfg = Config.from_yaml(\"config/config.yaml\")\n",
    "dataset = load_librispeech(cfg.dataset.path, \"dev-clean\", \"LibriSpeech\")"
   ],
   "id": "2532620184f5aab6",
   "outputs": [
    {
     "ename": "FileNotFoundError",
     "evalue": "[Errno 2] No such file or directory: '/home/alex/dev/DDDM-EVC/data/datasets/librispeech/config/config.yaml'",
     "output_type": "error",
     "traceback": [
      "\u001B[0;31m---------------------------------------------------------------------------\u001B[0m",
      "\u001B[0;31mFileNotFoundError\u001B[0m                         Traceback (most recent call last)",
      "Cell \u001B[0;32mIn[1], line 4\u001B[0m\n\u001B[1;32m      1\u001B[0m \u001B[38;5;28;01mfrom\u001B[39;00m\u001B[38;5;250m \u001B[39m\u001B[38;5;21;01mconfig\u001B[39;00m\u001B[38;5;21;01m.\u001B[39;00m\u001B[38;5;21;01mschema\u001B[39;00m\u001B[38;5;250m \u001B[39m\u001B[38;5;28;01mimport\u001B[39;00m Config\n\u001B[1;32m      2\u001B[0m \u001B[38;5;28;01mfrom\u001B[39;00m\u001B[38;5;250m \u001B[39m\u001B[38;5;21;01mdata\u001B[39;00m\u001B[38;5;21;01m.\u001B[39;00m\u001B[38;5;21;01mdatasets\u001B[39;00m\u001B[38;5;250m \u001B[39m\u001B[38;5;28;01mimport\u001B[39;00m load_librispeech\n\u001B[0;32m----> 4\u001B[0m cfg \u001B[38;5;241m=\u001B[39m \u001B[43mConfig\u001B[49m\u001B[38;5;241;43m.\u001B[39;49m\u001B[43mfrom_yaml\u001B[49m\u001B[43m(\u001B[49m\u001B[38;5;124;43m\"\u001B[39;49m\u001B[38;5;124;43mconfig/config.yaml\u001B[39;49m\u001B[38;5;124;43m\"\u001B[39;49m\u001B[43m)\u001B[49m\n\u001B[1;32m      5\u001B[0m dataset \u001B[38;5;241m=\u001B[39m load_librispeech(cfg\u001B[38;5;241m.\u001B[39mdataset\u001B[38;5;241m.\u001B[39mpath, \u001B[38;5;124m\"\u001B[39m\u001B[38;5;124mdev-clean\u001B[39m\u001B[38;5;124m\"\u001B[39m, \u001B[38;5;124m\"\u001B[39m\u001B[38;5;124mLibriSpeech\u001B[39m\u001B[38;5;124m\"\u001B[39m)\n",
      "File \u001B[0;32m~/dev/DDDM-EVC/config/schema.py:44\u001B[0m, in \u001B[0;36mConfig.from_yaml\u001B[0;34m(cls, path)\u001B[0m\n\u001B[1;32m     36\u001B[0m \u001B[38;5;250m\u001B[39m\u001B[38;5;124;03m\"\"\"\u001B[39;00m\n\u001B[1;32m     37\u001B[0m \u001B[38;5;124;03mLoad a Config object from a YAML file\u001B[39;00m\n\u001B[1;32m     38\u001B[0m \u001B[38;5;124;03mwith type validation.\u001B[39;00m\n\u001B[0;32m   (...)\u001B[0m\n\u001B[1;32m     41\u001B[0m \u001B[38;5;124;03m:return: Config object\u001B[39;00m\n\u001B[1;32m     42\u001B[0m \u001B[38;5;124;03m\"\"\"\u001B[39;00m\n\u001B[1;32m     43\u001B[0m cfg \u001B[38;5;241m=\u001B[39m OmegaConf\u001B[38;5;241m.\u001B[39mstructured(Config)\n\u001B[0;32m---> 44\u001B[0m cfg\u001B[38;5;241m.\u001B[39mmerge_with(\u001B[43mOmegaConf\u001B[49m\u001B[38;5;241;43m.\u001B[39;49m\u001B[43mload\u001B[49m\u001B[43m(\u001B[49m\u001B[43mpath\u001B[49m\u001B[43m)\u001B[49m)\n\u001B[1;32m     45\u001B[0m \u001B[38;5;28;01mreturn\u001B[39;00m \u001B[38;5;28mcls\u001B[39m(\n\u001B[1;32m     46\u001B[0m     training\u001B[38;5;241m=\u001B[39mTrainingConfig(\u001B[38;5;241m*\u001B[39m\u001B[38;5;241m*\u001B[39mcfg\u001B[38;5;241m.\u001B[39mtraining),\n\u001B[1;32m     47\u001B[0m     dataset\u001B[38;5;241m=\u001B[39mDatasetConfig(\u001B[38;5;241m*\u001B[39m\u001B[38;5;241m*\u001B[39mcfg\u001B[38;5;241m.\u001B[39mdataset),\n\u001B[1;32m     48\u001B[0m     dataloader\u001B[38;5;241m=\u001B[39mDataLoaderConfig(\u001B[38;5;241m*\u001B[39m\u001B[38;5;241m*\u001B[39mcfg\u001B[38;5;241m.\u001B[39mdataloader),\n\u001B[1;32m     49\u001B[0m )\n",
      "File \u001B[0;32m~/.virtualenvs/DDDM-EVC/lib/python3.10/site-packages/omegaconf/omegaconf.py:189\u001B[0m, in \u001B[0;36mOmegaConf.load\u001B[0;34m(file_)\u001B[0m\n\u001B[1;32m    186\u001B[0m \u001B[38;5;28;01mfrom\u001B[39;00m\u001B[38;5;250m \u001B[39m\u001B[38;5;21;01m.\u001B[39;00m\u001B[38;5;21;01m_utils\u001B[39;00m\u001B[38;5;250m \u001B[39m\u001B[38;5;28;01mimport\u001B[39;00m get_yaml_loader\n\u001B[1;32m    188\u001B[0m \u001B[38;5;28;01mif\u001B[39;00m \u001B[38;5;28misinstance\u001B[39m(file_, (\u001B[38;5;28mstr\u001B[39m, pathlib\u001B[38;5;241m.\u001B[39mPath)):\n\u001B[0;32m--> 189\u001B[0m     \u001B[38;5;28;01mwith\u001B[39;00m \u001B[43mio\u001B[49m\u001B[38;5;241;43m.\u001B[39;49m\u001B[43mopen\u001B[49m\u001B[43m(\u001B[49m\u001B[43mos\u001B[49m\u001B[38;5;241;43m.\u001B[39;49m\u001B[43mpath\u001B[49m\u001B[38;5;241;43m.\u001B[39;49m\u001B[43mabspath\u001B[49m\u001B[43m(\u001B[49m\u001B[43mfile_\u001B[49m\u001B[43m)\u001B[49m\u001B[43m,\u001B[49m\u001B[43m \u001B[49m\u001B[38;5;124;43m\"\u001B[39;49m\u001B[38;5;124;43mr\u001B[39;49m\u001B[38;5;124;43m\"\u001B[39;49m\u001B[43m,\u001B[49m\u001B[43m \u001B[49m\u001B[43mencoding\u001B[49m\u001B[38;5;241;43m=\u001B[39;49m\u001B[38;5;124;43m\"\u001B[39;49m\u001B[38;5;124;43mutf-8\u001B[39;49m\u001B[38;5;124;43m\"\u001B[39;49m\u001B[43m)\u001B[49m \u001B[38;5;28;01mas\u001B[39;00m f:\n\u001B[1;32m    190\u001B[0m         obj \u001B[38;5;241m=\u001B[39m yaml\u001B[38;5;241m.\u001B[39mload(f, Loader\u001B[38;5;241m=\u001B[39mget_yaml_loader())\n\u001B[1;32m    191\u001B[0m \u001B[38;5;28;01melif\u001B[39;00m \u001B[38;5;28mgetattr\u001B[39m(file_, \u001B[38;5;124m\"\u001B[39m\u001B[38;5;124mread\u001B[39m\u001B[38;5;124m\"\u001B[39m, \u001B[38;5;28;01mNone\u001B[39;00m):\n",
      "\u001B[0;31mFileNotFoundError\u001B[0m: [Errno 2] No such file or directory: '/home/alex/dev/DDDM-EVC/data/datasets/librispeech/config/config.yaml'"
     ]
    }
   ],
   "execution_count": 1
  },
  {
   "metadata": {
    "ExecuteTime": {
     "end_time": "2025-01-19T15:58:06.848928343Z",
     "start_time": "2025-01-17T14:51:23.535912Z"
    }
   },
   "cell_type": "code",
   "source": [
    "import matplotlib.pyplot as plt\n",
    "\n",
    "\n",
    "def plot_specgram(waveform, sample_rate, title=\"Spectrogram\"):\n",
    "    waveform = waveform.numpy()\n",
    "\n",
    "    figure, ax = plt.subplots()\n",
    "    ax.specgram(waveform[0], Fs=sample_rate)\n",
    "    figure.suptitle(title)\n",
    "    figure.tight_layout()\n",
    "    plt.show()\n",
    "\n",
    "def visualize_sample(i):\n",
    "    if i >= len(dataset):\n",
    "        raise IndexError(f\"Out of range, try a number between 0 and {len(dataset) - 1}\")\n",
    "    waveform, sample_rate, label, id_spk, id_chapter, id_utterance = dataset[i]\n",
    "    plot_specgram(waveform, sample_rate, title=f\"Sample {i}\")\n",
    "    print(f\"Sample rate: {sample_rate}\")\n",
    "    print(f\"Utterance: '{label}'\")\n",
    "    print(f\"Speaker ID: {id_spk}\")\n",
    "    print(f\"Chapter ID: {id_chapter}\")\n",
    "    return IPython.display.Audio(waveform, rate=sample_rate)"
   ],
   "id": "40ee08dc2a888e7e",
   "outputs": [],
   "execution_count": 3
  },
  {
   "metadata": {
    "ExecuteTime": {
     "end_time": "2025-01-17T14:51:24.178706Z",
     "start_time": "2025-01-17T14:51:23.866925Z"
    }
   },
   "cell_type": "code",
   "source": "visualize_sample(2050)",
   "id": "60e248197799f4da",
   "outputs": [
    {
     "ename": "RuntimeError",
     "evalue": "Error loading audio file: failed to open file ./LibriSpeech/dev-clean/6313/76958/6313-76958-0009.flac",
     "output_type": "error",
     "traceback": [
      "\u001B[0;31m---------------------------------------------------------------------------\u001B[0m",
      "\u001B[0;31mRuntimeError\u001B[0m                              Traceback (most recent call last)",
      "Cell \u001B[0;32mIn[4], line 1\u001B[0m\n\u001B[0;32m----> 1\u001B[0m \u001B[43mvisualize_sample\u001B[49m\u001B[43m(\u001B[49m\u001B[38;5;241;43m2050\u001B[39;49m\u001B[43m)\u001B[49m\n",
      "Cell \u001B[0;32mIn[3], line 16\u001B[0m, in \u001B[0;36mvisualize_sample\u001B[0;34m(i)\u001B[0m\n\u001B[1;32m     14\u001B[0m \u001B[38;5;28;01mif\u001B[39;00m i \u001B[38;5;241m>\u001B[39m\u001B[38;5;241m=\u001B[39m \u001B[38;5;28mlen\u001B[39m(dataset):\n\u001B[1;32m     15\u001B[0m     \u001B[38;5;28;01mraise\u001B[39;00m \u001B[38;5;167;01mIndexError\u001B[39;00m(\u001B[38;5;124mf\u001B[39m\u001B[38;5;124m\"\u001B[39m\u001B[38;5;124mOut of range, try a number between 0 and \u001B[39m\u001B[38;5;132;01m{\u001B[39;00m\u001B[38;5;28mlen\u001B[39m(dataset)\u001B[38;5;250m \u001B[39m\u001B[38;5;241m-\u001B[39m\u001B[38;5;250m \u001B[39m\u001B[38;5;241m1\u001B[39m\u001B[38;5;132;01m}\u001B[39;00m\u001B[38;5;124m\"\u001B[39m)\n\u001B[0;32m---> 16\u001B[0m waveform, sample_rate, label, id_spk, id_chapter, id_utterance \u001B[38;5;241m=\u001B[39m \u001B[43mdataset\u001B[49m\u001B[43m[\u001B[49m\u001B[43mi\u001B[49m\u001B[43m]\u001B[49m\n\u001B[1;32m     17\u001B[0m plot_specgram(waveform, sample_rate, title\u001B[38;5;241m=\u001B[39m\u001B[38;5;124mf\u001B[39m\u001B[38;5;124m\"\u001B[39m\u001B[38;5;124mSample \u001B[39m\u001B[38;5;132;01m{\u001B[39;00mi\u001B[38;5;132;01m}\u001B[39;00m\u001B[38;5;124m\"\u001B[39m)\n\u001B[1;32m     18\u001B[0m \u001B[38;5;28mprint\u001B[39m(\u001B[38;5;124mf\u001B[39m\u001B[38;5;124m\"\u001B[39m\u001B[38;5;124mSample rate: \u001B[39m\u001B[38;5;132;01m{\u001B[39;00msample_rate\u001B[38;5;132;01m}\u001B[39;00m\u001B[38;5;124m\"\u001B[39m)\n",
      "File \u001B[0;32m~/.virtualenvs/DDDM-EVC/lib/python3.10/site-packages/torchaudio/datasets/librispeech.py:170\u001B[0m, in \u001B[0;36mLIBRISPEECH.__getitem__\u001B[0;34m(self, n)\u001B[0m\n\u001B[1;32m    148\u001B[0m \u001B[38;5;250m\u001B[39m\u001B[38;5;124;03m\"\"\"Load the n-th sample from the dataset.\u001B[39;00m\n\u001B[1;32m    149\u001B[0m \n\u001B[1;32m    150\u001B[0m \u001B[38;5;124;03mArgs:\u001B[39;00m\n\u001B[0;32m   (...)\u001B[0m\n\u001B[1;32m    167\u001B[0m \u001B[38;5;124;03m        Utterance ID\u001B[39;00m\n\u001B[1;32m    168\u001B[0m \u001B[38;5;124;03m\"\"\"\u001B[39;00m\n\u001B[1;32m    169\u001B[0m metadata \u001B[38;5;241m=\u001B[39m \u001B[38;5;28mself\u001B[39m\u001B[38;5;241m.\u001B[39mget_metadata(n)\n\u001B[0;32m--> 170\u001B[0m waveform \u001B[38;5;241m=\u001B[39m \u001B[43m_load_waveform\u001B[49m\u001B[43m(\u001B[49m\u001B[38;5;28;43mself\u001B[39;49m\u001B[38;5;241;43m.\u001B[39;49m\u001B[43m_archive\u001B[49m\u001B[43m,\u001B[49m\u001B[43m \u001B[49m\u001B[43mmetadata\u001B[49m\u001B[43m[\u001B[49m\u001B[38;5;241;43m0\u001B[39;49m\u001B[43m]\u001B[49m\u001B[43m,\u001B[49m\u001B[43m \u001B[49m\u001B[43mmetadata\u001B[49m\u001B[43m[\u001B[49m\u001B[38;5;241;43m1\u001B[39;49m\u001B[43m]\u001B[49m\u001B[43m)\u001B[49m\n\u001B[1;32m    171\u001B[0m \u001B[38;5;28;01mreturn\u001B[39;00m (waveform,) \u001B[38;5;241m+\u001B[39m metadata[\u001B[38;5;241m1\u001B[39m:]\n",
      "File \u001B[0;32m~/.virtualenvs/DDDM-EVC/lib/python3.10/site-packages/torchaudio/datasets/utils.py:51\u001B[0m, in \u001B[0;36m_load_waveform\u001B[0;34m(root, filename, exp_sample_rate)\u001B[0m\n\u001B[1;32m     45\u001B[0m \u001B[38;5;28;01mdef\u001B[39;00m\u001B[38;5;250m \u001B[39m\u001B[38;5;21m_load_waveform\u001B[39m(\n\u001B[1;32m     46\u001B[0m     root: \u001B[38;5;28mstr\u001B[39m,\n\u001B[1;32m     47\u001B[0m     filename: \u001B[38;5;28mstr\u001B[39m,\n\u001B[1;32m     48\u001B[0m     exp_sample_rate: \u001B[38;5;28mint\u001B[39m,\n\u001B[1;32m     49\u001B[0m ):\n\u001B[1;32m     50\u001B[0m     path \u001B[38;5;241m=\u001B[39m os\u001B[38;5;241m.\u001B[39mpath\u001B[38;5;241m.\u001B[39mjoin(root, filename)\n\u001B[0;32m---> 51\u001B[0m     waveform, sample_rate \u001B[38;5;241m=\u001B[39m \u001B[43mtorchaudio\u001B[49m\u001B[38;5;241;43m.\u001B[39;49m\u001B[43mload\u001B[49m\u001B[43m(\u001B[49m\u001B[43mpath\u001B[49m\u001B[43m)\u001B[49m\n\u001B[1;32m     52\u001B[0m     \u001B[38;5;28;01mif\u001B[39;00m exp_sample_rate \u001B[38;5;241m!=\u001B[39m sample_rate:\n\u001B[1;32m     53\u001B[0m         \u001B[38;5;28;01mraise\u001B[39;00m \u001B[38;5;167;01mValueError\u001B[39;00m(\u001B[38;5;124mf\u001B[39m\u001B[38;5;124m\"\u001B[39m\u001B[38;5;124msample rate should be \u001B[39m\u001B[38;5;132;01m{\u001B[39;00mexp_sample_rate\u001B[38;5;132;01m}\u001B[39;00m\u001B[38;5;124m, but got \u001B[39m\u001B[38;5;132;01m{\u001B[39;00msample_rate\u001B[38;5;132;01m}\u001B[39;00m\u001B[38;5;124m\"\u001B[39m)\n",
      "File \u001B[0;32m~/.virtualenvs/DDDM-EVC/lib/python3.10/site-packages/torchaudio/_backend/utils.py:205\u001B[0m, in \u001B[0;36mget_load_func.<locals>.load\u001B[0;34m(uri, frame_offset, num_frames, normalize, channels_first, format, buffer_size, backend)\u001B[0m\n\u001B[1;32m    128\u001B[0m \u001B[38;5;250m\u001B[39m\u001B[38;5;124;03m\"\"\"Load audio data from source.\u001B[39;00m\n\u001B[1;32m    129\u001B[0m \n\u001B[1;32m    130\u001B[0m \u001B[38;5;124;03mBy default (``normalize=True``, ``channels_first=True``), this function returns Tensor with\u001B[39;00m\n\u001B[0;32m   (...)\u001B[0m\n\u001B[1;32m    202\u001B[0m \u001B[38;5;124;03m        `[channel, time]` else `[time, channel]`.\u001B[39;00m\n\u001B[1;32m    203\u001B[0m \u001B[38;5;124;03m\"\"\"\u001B[39;00m\n\u001B[1;32m    204\u001B[0m backend \u001B[38;5;241m=\u001B[39m dispatcher(uri, \u001B[38;5;28mformat\u001B[39m, backend)\n\u001B[0;32m--> 205\u001B[0m \u001B[38;5;28;01mreturn\u001B[39;00m \u001B[43mbackend\u001B[49m\u001B[38;5;241;43m.\u001B[39;49m\u001B[43mload\u001B[49m\u001B[43m(\u001B[49m\u001B[43muri\u001B[49m\u001B[43m,\u001B[49m\u001B[43m \u001B[49m\u001B[43mframe_offset\u001B[49m\u001B[43m,\u001B[49m\u001B[43m \u001B[49m\u001B[43mnum_frames\u001B[49m\u001B[43m,\u001B[49m\u001B[43m \u001B[49m\u001B[43mnormalize\u001B[49m\u001B[43m,\u001B[49m\u001B[43m \u001B[49m\u001B[43mchannels_first\u001B[49m\u001B[43m,\u001B[49m\u001B[43m \u001B[49m\u001B[38;5;28;43mformat\u001B[39;49m\u001B[43m,\u001B[49m\u001B[43m \u001B[49m\u001B[43mbuffer_size\u001B[49m\u001B[43m)\u001B[49m\n",
      "File \u001B[0;32m~/.virtualenvs/DDDM-EVC/lib/python3.10/site-packages/torchaudio/_backend/sox.py:44\u001B[0m, in \u001B[0;36mSoXBackend.load\u001B[0;34m(uri, frame_offset, num_frames, normalize, channels_first, format, buffer_size)\u001B[0m\n\u001B[1;32m     39\u001B[0m     \u001B[38;5;28;01mraise\u001B[39;00m \u001B[38;5;167;01mValueError\u001B[39;00m(\n\u001B[1;32m     40\u001B[0m         \u001B[38;5;124m\"\u001B[39m\u001B[38;5;124mSoX backend does not support loading from file-like objects. \u001B[39m\u001B[38;5;124m\"\u001B[39m,\n\u001B[1;32m     41\u001B[0m         \u001B[38;5;124m\"\u001B[39m\u001B[38;5;124mPlease use an alternative backend that does support loading from file-like objects, e.g. FFmpeg.\u001B[39m\u001B[38;5;124m\"\u001B[39m,\n\u001B[1;32m     42\u001B[0m     )\n\u001B[1;32m     43\u001B[0m \u001B[38;5;28;01melse\u001B[39;00m:\n\u001B[0;32m---> 44\u001B[0m     ret \u001B[38;5;241m=\u001B[39m \u001B[43msox_ext\u001B[49m\u001B[38;5;241;43m.\u001B[39;49m\u001B[43mload_audio_file\u001B[49m\u001B[43m(\u001B[49m\u001B[43muri\u001B[49m\u001B[43m,\u001B[49m\u001B[43m \u001B[49m\u001B[43mframe_offset\u001B[49m\u001B[43m,\u001B[49m\u001B[43m \u001B[49m\u001B[43mnum_frames\u001B[49m\u001B[43m,\u001B[49m\u001B[43m \u001B[49m\u001B[43mnormalize\u001B[49m\u001B[43m,\u001B[49m\u001B[43m \u001B[49m\u001B[43mchannels_first\u001B[49m\u001B[43m,\u001B[49m\u001B[43m \u001B[49m\u001B[38;5;28;43mformat\u001B[39;49m\u001B[43m)\u001B[49m\n\u001B[1;32m     45\u001B[0m     \u001B[38;5;28;01mif\u001B[39;00m \u001B[38;5;129;01mnot\u001B[39;00m ret:\n\u001B[1;32m     46\u001B[0m         \u001B[38;5;28;01mraise\u001B[39;00m \u001B[38;5;167;01mRuntimeError\u001B[39;00m(\u001B[38;5;124mf\u001B[39m\u001B[38;5;124m\"\u001B[39m\u001B[38;5;124mFailed to load audio from \u001B[39m\u001B[38;5;132;01m{\u001B[39;00muri\u001B[38;5;132;01m}\u001B[39;00m\u001B[38;5;124m.\u001B[39m\u001B[38;5;124m\"\u001B[39m)\n",
      "File \u001B[0;32m~/.virtualenvs/DDDM-EVC/lib/python3.10/site-packages/torch/_ops.py:1116\u001B[0m, in \u001B[0;36mOpOverloadPacket.__call__\u001B[0;34m(self, *args, **kwargs)\u001B[0m\n\u001B[1;32m   1114\u001B[0m \u001B[38;5;28;01mif\u001B[39;00m \u001B[38;5;28mself\u001B[39m\u001B[38;5;241m.\u001B[39m_has_torchbind_op_overload \u001B[38;5;129;01mand\u001B[39;00m _must_dispatch_in_python(args, kwargs):\n\u001B[1;32m   1115\u001B[0m     \u001B[38;5;28;01mreturn\u001B[39;00m _call_overload_packet_from_python(\u001B[38;5;28mself\u001B[39m, args, kwargs)\n\u001B[0;32m-> 1116\u001B[0m \u001B[38;5;28;01mreturn\u001B[39;00m \u001B[38;5;28;43mself\u001B[39;49m\u001B[38;5;241;43m.\u001B[39;49m\u001B[43m_op\u001B[49m\u001B[43m(\u001B[49m\u001B[38;5;241;43m*\u001B[39;49m\u001B[43margs\u001B[49m\u001B[43m,\u001B[49m\u001B[43m \u001B[49m\u001B[38;5;241;43m*\u001B[39;49m\u001B[38;5;241;43m*\u001B[39;49m\u001B[43m(\u001B[49m\u001B[43mkwargs\u001B[49m\u001B[43m \u001B[49m\u001B[38;5;129;43;01mor\u001B[39;49;00m\u001B[43m \u001B[49m\u001B[43m{\u001B[49m\u001B[43m}\u001B[49m\u001B[43m)\u001B[49m\u001B[43m)\u001B[49m\n",
      "\u001B[0;31mRuntimeError\u001B[0m: Error loading audio file: failed to open file ./LibriSpeech/dev-clean/6313/76958/6313-76958-0009.flac"
     ]
    }
   ],
   "execution_count": 4
  },
  {
   "metadata": {
    "ExecuteTime": {
     "end_time": "2025-01-17T14:54:06.396220Z",
     "start_time": "2025-01-17T14:54:06.391009Z"
    }
   },
   "cell_type": "code",
   "source": "",
   "id": "257d1d3a6c24b53f",
   "outputs": [
    {
     "data": {
      "text/plain": [
       "'/home/alex/dev/DDDM-EVC/data/datasets/librispeech'"
      ]
     },
     "execution_count": 5,
     "metadata": {},
     "output_type": "execute_result"
    }
   ],
   "execution_count": 5
  }
 ],
 "metadata": {
  "kernelspec": {
   "display_name": "Python 3",
   "language": "python",
   "name": "python3"
  },
  "language_info": {
   "codemirror_mode": {
    "name": "ipython",
    "version": 2
   },
   "file_extension": ".py",
   "mimetype": "text/x-python",
   "name": "python",
   "nbconvert_exporter": "python",
   "pygments_lexer": "ipython2",
   "version": "2.7.6"
  }
 },
 "nbformat": 4,
 "nbformat_minor": 5
}
